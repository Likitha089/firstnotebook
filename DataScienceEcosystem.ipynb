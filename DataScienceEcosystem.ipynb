{
 "cells": [
  {
   "cell_type": "markdown",
   "id": "173dce59-cc0c-4d64-8191-db0bbffc8f5b",
   "metadata": {},
   "source": [
    "# Data Science tools and Ecosystem\n"
   ]
  },
  {
   "cell_type": "markdown",
   "id": "cd3b8403-8925-433e-a1b6-a79e5d4a0eb3",
   "metadata": {},
   "source": [
    "In this notebook, Data Science tools and Ecosystem are summarized"
   ]
  },
  {
   "cell_type": "markdown",
   "id": "0ad9c023-36a9-4bc4-b69f-e81f05c5162f",
   "metadata": {},
   "source": [
    "Some of the popular languages that Data Scientists use are:\n",
    "\n",
    "1. Python\n",
    "2. R\n",
    "3. Java\n",
    "4. Julia\n",
    "5. Scala"
   ]
  },
  {
   "cell_type": "markdown",
   "id": "50f75969-e2f3-42f2-b17b-d9b7e12a4fd0",
   "metadata": {},
   "source": [
    "Some of the commonly used libraries used by Data Scientists include:\n",
    "\n",
    "1. NumPy\n",
    "2. MatPlotLib\n",
    "3. Seaborn\n",
    "4. SciKitLearn"
   ]
  },
  {
   "cell_type": "markdown",
   "id": "2321b475-afcd-43ae-8030-06164b91dbb0",
   "metadata": {},
   "source": [
    "Data Science tools |\n",
    "------------------------\n",
    "PyCharm|\n",
    "Jupyter|\n",
    "Spyder|"
   ]
  },
  {
   "cell_type": "markdown",
   "id": "9f50c5dc-fbae-4253-94bc-eff7a5ab5b5b",
   "metadata": {
    "tags": []
   },
   "source": [
    "### Below are few examples of evaluating arithmetic expressions in Python"
   ]
  },
  {
   "cell_type": "code",
   "execution_count": 2,
   "id": "817b683c-1ca3-4be6-9f51-e573725562aa",
   "metadata": {
    "tags": []
   },
   "outputs": [
    {
     "data": {
      "text/plain": [
       "17"
      ]
     },
     "execution_count": 2,
     "metadata": {},
     "output_type": "execute_result"
    }
   ],
   "source": [
    "# This is a simple arithmetic expression to multiply then add integers\n",
    "(3*4)+5"
   ]
  },
  {
   "cell_type": "code",
   "execution_count": 4,
   "id": "c888f6e8-14bc-4023-8d07-85a6e70aa2db",
   "metadata": {
    "tags": []
   },
   "outputs": [
    {
     "name": "stdout",
     "output_type": "stream",
     "text": [
      "3.3333333333333335 hours is equal to 200 minutes\n"
     ]
    }
   ],
   "source": [
    "# This will conver 200 mins to hours by dividing by 60\n",
    "minutes = 200\n",
    "hours = 200/60\n",
    "print('{} hours is equal to 200 minutes'.format(hours))"
   ]
  },
  {
   "cell_type": "markdown",
   "id": "b084df20-7ebd-4b4c-b918-fa979ffbe969",
   "metadata": {},
   "source": [
    "__Objectives:__\n",
    "+ List popular languages for Data Science\n",
    "+ List popular libraries used by Data Scientists\n",
    "+ List popular open source tools used by Data Scientists\n",
    "+ Demonstrate few arithmetic operations that can be performed in python"
   ]
  },
  {
   "cell_type": "markdown",
   "id": "421d4e92-3406-4f44-87c8-d412b5c1c855",
   "metadata": {},
   "source": [
    "## Author\n",
    "Likitha"
   ]
  },
  {
   "cell_type": "code",
   "execution_count": null,
   "id": "169c39fb-1e35-4c82-a949-df60eece553d",
   "metadata": {},
   "outputs": [],
   "source": []
  }
 ],
 "metadata": {
  "kernelspec": {
   "display_name": "Python",
   "language": "python",
   "name": "conda-env-python-py"
  },
  "language_info": {
   "codemirror_mode": {
    "name": "ipython",
    "version": 3
   },
   "file_extension": ".py",
   "mimetype": "text/x-python",
   "name": "python",
   "nbconvert_exporter": "python",
   "pygments_lexer": "ipython3",
   "version": "3.7.12"
  }
 },
 "nbformat": 4,
 "nbformat_minor": 5
}
